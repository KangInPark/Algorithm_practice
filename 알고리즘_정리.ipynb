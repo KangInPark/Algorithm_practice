{
  "nbformat": 4,
  "nbformat_minor": 0,
  "metadata": {
    "colab": {
      "provenance": [],
      "authorship_tag": "ABX9TyNvkfCgbOCCN7CsISRJ/gIx",
      "include_colab_link": true
    },
    "kernelspec": {
      "name": "python3",
      "display_name": "Python 3"
    },
    "language_info": {
      "name": "python"
    }
  },
  "cells": [
    {
      "cell_type": "markdown",
      "metadata": {
        "id": "view-in-github",
        "colab_type": "text"
      },
      "source": [
        "<a href=\"https://colab.research.google.com/github/KangInPark/Algorithm_practice/blob/master/%EC%95%8C%EA%B3%A0%EB%A6%AC%EC%A6%98_%EC%A0%95%EB%A6%AC.ipynb\" target=\"_parent\"><img src=\"https://colab.research.google.com/assets/colab-badge.svg\" alt=\"Open In Colab\"/></a>"
      ]
    },
    {
      "cell_type": "markdown",
      "source": [
        "세그멘트 트리(탑 다운)"
      ],
      "metadata": {
        "id": "E8BY9oyBjImT"
      }
    },
    {
      "cell_type": "code",
      "source": [
        "class idx():\n",
        "  def __init__(self, data):\n",
        "    self.data = data\n",
        "    self.idx = 1\n",
        "    while self.idx < len(data):\n",
        "      self.idx = self.idx << 1\n",
        "    self.arr = [0] * self.idx * 2\n",
        "    self.make(1, 0, len(data)-1)\n",
        "\n",
        "  def make(self, pos, l, r):\n",
        "    if l == r:\n",
        "      self.arr[pos] = self.data[l]\n",
        "    else:\n",
        "      self.make(pos*2, l, (l+r)//2)\n",
        "      self.make(pos*2+1, (l+r)//2 + 1, r)\n",
        "      self.arr[pos] = self.arr[pos*2] + self.arr[pos*2 + 1]\n",
        "\n",
        "  def update(self, pos,idx, l, r, val):\n",
        "    if idx < l or idx > r:\n",
        "      return\n",
        "    if l == r:\n",
        "      self.arr[pos] = val\n",
        "    else:\n",
        "      self.update(pos*2, idx, l, (l+r)//2, val)\n",
        "      self.update(pos*2+1, idx, (l+r)//2 + 1, r, val)\n",
        "      self.arr[pos] = self.arr[pos*2] + self.arr[pos*2+1]\n",
        "\n",
        "  def get(self, pos, l, r, a, b):\n",
        "    if l > b or r < a:\n",
        "      return 0\n",
        "    if a<=l and r<=b:\n",
        "      return self.arr[pos]\n",
        "    return self.get(pos*2, l, (l+r)//2, a, b) + self.get(pos*2+1, (l+r)//2 + 1, r, a, b)"
      ],
      "metadata": {
        "id": "tmuViNngjciC"
      },
      "execution_count": null,
      "outputs": []
    },
    {
      "cell_type": "markdown",
      "source": [
        "세그멘트 트리 lazy propagation"
      ],
      "metadata": {
        "id": "jM77S20Bjfk_"
      }
    },
    {
      "cell_type": "code",
      "source": [
        "class idx():\n",
        "  def __init__(self, data):\n",
        "    self.data = data\n",
        "    self.idx = 1\n",
        "    while self.idx < len(data):\n",
        "      self.idx = self.idx << 1\n",
        "    self.arr = [0] * self.idx * 2\n",
        "    self.make(1, 0, len(data)-1)\n",
        "    self.lazy = [0] * len(self.arr)\n",
        "\n",
        "  def make(self, pos, l, r):\n",
        "    if l == r:\n",
        "      self.arr[pos] = self.data[l]\n",
        "    else:\n",
        "      self.make(pos*2, l, (l+r)//2)\n",
        "      self.make(pos*2+1, (l+r)//2 + 1, r)\n",
        "      self.arr[pos] = self.arr[pos*2] + self.arr[pos*2 + 1]\n",
        "\n",
        "  def prop(self, pos, a, b):\n",
        "    if self.lazy[pos] !=0:\n",
        "      self.arr[pos] += self.lazy[pos] * (b - a + 1)\n",
        "      if a != b:\n",
        "        self.lazy[pos*2] += self.lazy[pos]\n",
        "        self.lazy[pos*2 + 1] += self.lazy[pos]\n",
        "      self.lazy[pos] = 0\n",
        "\n",
        "  def update(self, pos, l, r, a, b, val):\n",
        "    self.prop(pos, l, r)\n",
        "    if l > b or r < a:\n",
        "      return\n",
        "    if a <= l and r <= b:\n",
        "      self.lazy[pos] += val\n",
        "      self.prop(pos, l, r)\n",
        "      return\n",
        "    self.update(pos*2, l, (l+r)//2, a, b, val)\n",
        "    self.update(pos*2+1, (l+r)//2 +1, r, a, b, val)\n",
        "    self.arr[pos] = self.arr[pos*2] + self.arr[pos*2+1]\n",
        "\n",
        "  def get(self, pos, l, r, a, b):\n",
        "    self.prop(pos, l, r)\n",
        "    if l > b or r < a:\n",
        "      return 0\n",
        "    if a<=l and r<=b:\n",
        "      return self.arr[pos]\n",
        "    return self.get(pos*2, l, (l+r)//2, a, b) + self.get(pos*2+1, (l+r)//2 + 1, r, a, b)"
      ],
      "metadata": {
        "id": "3PXAL3F1jOGX"
      },
      "execution_count": null,
      "outputs": []
    },
    {
      "cell_type": "markdown",
      "source": [
        "인덱스 트리 (바텀 업)"
      ],
      "metadata": {
        "id": "jWa9MBvAjyjo"
      }
    },
    {
      "cell_type": "code",
      "source": [
        "class idx():\n",
        "  def __init__(self, data):\n",
        "    self.idx = 1\n",
        "    while self.idx < len(data):\n",
        "      self.idx = self.idx << 1\n",
        "    self.arr = [0] * self.idx * 2\n",
        "    for i in range(len(data)):\n",
        "      self.update(i, data[i])\n",
        "\n",
        "  def update(self, pos, n):\n",
        "    pos = self.idx + pos\n",
        "    gap = n - self.arr[pos]\n",
        "    while pos>0:\n",
        "      self.arr[pos] += gap\n",
        "      pos = pos // 2\n",
        "\n",
        "  def getSum(self, left, right):\n",
        "    left += self.idx\n",
        "    right += self.idx\n",
        "    sum = 0\n",
        "    while left<right:\n",
        "      if left%2 == 1:\n",
        "        sum += self.arr[left]\n",
        "        left += 1\n",
        "      if right%2 == 0:\n",
        "        sum += self.arr[right]\n",
        "        right -= 1\n",
        "      left = left // 2\n",
        "      right = right// 2\n",
        "    if left == right:\n",
        "      sum += self.arr[left]\n",
        "    return sum"
      ],
      "metadata": {
        "id": "X26MuXujj1N0"
      },
      "execution_count": null,
      "outputs": []
    },
    {
      "cell_type": "code",
      "source": [
        "#include <iostream>\n",
        "#include <vector>\n",
        "\n",
        "using namespace std;\n",
        "\n",
        "int d[100001];\n",
        "vector<int> itree;\n",
        "int idx;\n",
        "void update(int pos, int val) {\n",
        "\tint i = pos + idx;\n",
        "\titree[i] = val;\n",
        "\ti >>= 1;\n",
        "\twhile (i > 0) {\n",
        "\t\tif (itree[i] > val)itree[i] = val;\n",
        "\t\ti >>= 1;\n",
        "\t}\n",
        "}\n",
        "\n",
        "int getval(int a, int b) {\n",
        "\tint l = a + idx;\n",
        "\tint r = b + idx;\n",
        "\tint ret = 1000000001;\n",
        "\twhile (l < r) {\n",
        "\t\tif (l & 1) {\n",
        "\t\t\tif (ret > itree[l]) ret = itree[l];\n",
        "\t\t\tl++;\n",
        "\t\t}\n",
        "\t\tif ((r & 1) == 0) {\n",
        "\t\t\tif (ret > itree[r]) ret = itree[r];\n",
        "\t\t\tr--;\n",
        "\t\t}\n",
        "\t\tr >>= 1;\n",
        "\t\tl >>= 1;\n",
        "\t}\n",
        "\tif (l == r && ret > itree[l])ret = itree[l];\n",
        "\treturn ret;\n",
        "}\n",
        "int main()\n",
        "{\n",
        "\tios::sync_with_stdio(false);\n",
        "\tcin.tie(NULL);\n",
        "\tint n, m;\n",
        "\tcin >> n >> m;\n",
        "\tidx = 1;\n",
        "\twhile (idx < n)idx <<= 1;\n",
        "\titree.resize(idx << 1, 1000000001);\n",
        "\tfor (int i = 0; i < n; i++) {\n",
        "\t\tint tmp;\n",
        "\t\tcin >> tmp;\n",
        "\t\tupdate(i,tmp);\n",
        "\t}\n",
        "\tfor (int i = 0; i < m; i++) {\n",
        "\t\tint a, b;\n",
        "\t\tcin >> a >> b;\n",
        "\t\tcout << getval(a-1, b-1) << \"\\n\";\n",
        "\t}\n",
        "}"
      ],
      "metadata": {
        "id": "3x5uLIWqK0i3"
      },
      "execution_count": null,
      "outputs": []
    },
    {
      "cell_type": "markdown",
      "source": [
        "펜윅 트리"
      ],
      "metadata": {
        "id": "5RFaO_e3E39s"
      }
    },
    {
      "cell_type": "code",
      "source": [
        "class fw():\n",
        "  def __init__(self, n):\n",
        "    self.n = n\n",
        "    self.arr = [0] * (self.n + 1)\n",
        "    self.data = [0] * (self.n + 1)\n",
        "\n",
        "  def update(self, idx, val):\n",
        "    diff = val - self.data[idx]\n",
        "    self.data[idx] = val\n",
        "    while idx <= self.n:\n",
        "      self.arr[idx] += diff\n",
        "      idx += idx & (-idx)\n",
        "\n",
        "  def get(self, idx):\n",
        "    ret = 0\n",
        "    while idx > 0:\n",
        "      ret += self.arr[idx]\n",
        "      idx -= idx & (-idx)\n",
        "    return ret"
      ],
      "metadata": {
        "id": "pPAY06F7E5XC"
      },
      "execution_count": null,
      "outputs": []
    },
    {
      "cell_type": "markdown",
      "source": [
        "lazy 펜윅"
      ],
      "metadata": {
        "id": "E0jMkZclY4dM"
      }
    },
    {
      "cell_type": "code",
      "source": [
        "#include <iostream>\n",
        "\n",
        "using namespace std;\n",
        "\n",
        "long long fw1[1000001];\n",
        "long long fw2[1000001];\n",
        "int n, m, k;\n",
        "void update(long long* fw, int pos, long long val)\n",
        "{\n",
        "\twhile (pos <= n) {\n",
        "\t\tfw[pos] += val;\n",
        "\t\tpos += pos & -pos;\n",
        "\t}\n",
        "}\n",
        "\n",
        "long long getVal(long long* fw, int pos)\n",
        "{\n",
        "\tlong long ret = 0;\n",
        "\twhile (pos > 0) {\n",
        "\t\tret += fw[pos];\n",
        "\t\tpos -= pos & -pos;\n",
        "\t}\n",
        "\treturn ret;\n",
        "}\n",
        "\n",
        "int main()\n",
        "{\n",
        "\tios::sync_with_stdio(false);\n",
        "\tcin.tie(NULL);\n",
        "\tcin >> n >> m >> k;\n",
        "\tfor (int i = 0; i < n; i++) {\n",
        "\t\tlong long tmp;\n",
        "\t\tcin >> tmp;\n",
        "\t\tupdate(fw2, i+1, tmp);\n",
        "\t}\n",
        "\tfor (int i = 0; i < m + k; i++) {\n",
        "\t\tlong long a, b, c, d;\n",
        "\t\tcin >> a;\n",
        "\t\tif (a == 1) {\n",
        "\t\t\tcin >> b >> c>> d;\n",
        "\t\t\tupdate(fw1, b, d); update(fw1, c + 1, -d);\n",
        "\t\t\tupdate(fw2, b, (-b + 1) * d); update(fw2, c + 1, c * d);\n",
        "\t\t}\n",
        "\t\telse {\n",
        "\t\t\tcin >> b >> c;\n",
        "\t\t\t--b;\n",
        "\t\t\tcout << getVal(fw1, c)*c + getVal(fw2, c) - getVal(fw1, b)*b - getVal(fw2, b) << '\\n';\n",
        "\t\t}\n",
        "\t}\n",
        "\treturn 0;\n",
        "}"
      ],
      "metadata": {
        "id": "06XKQ65FY5ly"
      },
      "execution_count": null,
      "outputs": []
    },
    {
      "cell_type": "markdown",
      "source": [
        "kmp 알고리즘"
      ],
      "metadata": {
        "id": "qWhsUB4mkc63"
      }
    },
    {
      "cell_type": "code",
      "source": [
        "def pfunc(a):\n",
        "  j=0\n",
        "  i=1\n",
        "  n = len(a)\n",
        "  arr = [0] * n\n",
        "  while(i<n):\n",
        "    if a[i] == a[j]:\n",
        "      arr[i] = j + 1\n",
        "      i += 1\n",
        "      j += 1\n",
        "    else:\n",
        "      if j > 0:\n",
        "        j = arr[j-1]\n",
        "      else:\n",
        "        i += 1\n",
        "  return arr\n",
        "\n",
        "def kmp(a, b):\n",
        "  arr = pfunc(b)\n",
        "  j = 0\n",
        "  cnt = 0\n",
        "  ret = []\n",
        "  for i in range(len(a)):\n",
        "    while j>0 and a[i]!=b[j]:\n",
        "      j = arr[j-1]\n",
        "    if a[i] == b[j]:\n",
        "      j += 1\n",
        "      if j == len(b):\n",
        "        cnt += 1\n",
        "        ret.append(str(i - len(b) + 2))\n",
        "        j = arr[j-1]\n",
        "  return cnt, ret"
      ],
      "metadata": {
        "id": "jYbw4hhfkh9p"
      },
      "execution_count": null,
      "outputs": []
    },
    {
      "cell_type": "code",
      "source": [
        "#include <iostream>\n",
        "#include <string>\n",
        "#include <vector>\n",
        "\n",
        "using namespace std;\n",
        "\n",
        "int p[100];\n",
        "void make_p(string s)\n",
        "{\n",
        "\tint j = 0;\n",
        "\tint n = s.size();\n",
        "\tfor (int i = 1; i < n; i++) {\n",
        "\t\twhile (j > 0 && s[i] != s[j]) {\n",
        "\t\t\tj = p[j - 1];\n",
        "\t\t}\n",
        "\t\tif (s[i] == s[j]) {\n",
        "\t\t\tp[i] = j + 1;\n",
        "\t\t\tj++;\n",
        "\t\t}\n",
        "\t}\n",
        "}\n",
        "\n",
        "int kmp(string s, string pt)\n",
        "{\n",
        "\tint j = 0;\n",
        "\tint n = s.size();\n",
        "\tint m = pt.size();\n",
        "\tmake_p(pt);\n",
        "\tfor (int i = 0; i < n; i++) {\n",
        "\t\twhile (j > 0 && s[i] != pt[j]) {\n",
        "\t\t\tj = p[j - 1];\n",
        "\t\t}\n",
        "\t\tif (s[i] == pt[j]) {\n",
        "\t\t\tif (j == m - 1) {\n",
        "\t\t\t\tcout<< \"찾은 시작 인덱스:\"<<i - m + 1 << \"\\n\";\n",
        "\t\t\t\tj = p[j];\n",
        "\t\t\t}\n",
        "\t\t\telse j++;\n",
        "\t\t}\n",
        "\t}\n",
        "}"
      ],
      "metadata": {
        "id": "RwG5a06mUb34"
      },
      "execution_count": null,
      "outputs": []
    },
    {
      "cell_type": "markdown",
      "source": [
        "다익스트라"
      ],
      "metadata": {
        "id": "lU5UTNRKOkHR"
      }
    },
    {
      "cell_type": "code",
      "source": [
        "def dij(start):\n",
        "    dist = [sys.maxsize] * (n + 1)\n",
        "    chk = [False] * (n + 1)\n",
        "    pq = []\n",
        "    dist[start] = 0\n",
        "    heappush(pq, (0, start))\n",
        "    while pq:\n",
        "        d, curr = heappop(pq)\n",
        "        if chk[curr]:\n",
        "            continue\n",
        "        chk[curr] = True\n",
        "        for next, w in adj[curr]:\n",
        "            if d + w < dist[next]:\n",
        "                dist[next] = d + w\n",
        "                heappush(pq, (dist[next], next))\n",
        "    return dist\n"
      ],
      "metadata": {
        "id": "Z05HeJUaOmi7"
      },
      "execution_count": null,
      "outputs": []
    },
    {
      "cell_type": "markdown",
      "source": [
        "LCA with DP\n",
        "\n",
        "d배열이 2차원인 이유는 dfs를 돌 때 서브트리 크기를 저장하기 위함."
      ],
      "metadata": {
        "id": "jsNJPkqKsNTM"
      }
    },
    {
      "cell_type": "code",
      "source": [
        "void dfs(int pos, int depth, int prev) {\n",
        "    p[pos][0] = prev;\n",
        "    d[pos][0] = depth;\n",
        "    for (int i = 1; i <= h; i++) p[pos][i] = p[p[pos][i - 1]][i - 1];\n",
        "    for (auto next : adj[pos]) {\n",
        "        dfs(next, depth + 1, pos);\n",
        "        d[pos][1] += d[next][1];\n",
        "    }\n",
        "    d[pos][1]++;\n",
        "}\n",
        "void lca(int a, int b)\n",
        "{\n",
        "    dfs(1,1,0);\n",
        "    if (d[a][0] < d[b][0])swap(a, b);\n",
        "    if (d[a][0] != d[b][0]){\n",
        "        for (int i = h; i >= 0; i--) {\n",
        "            if (d[a][0] - d[b][0] >= (1<<i)) {\n",
        "                a = p[a][i];\n",
        "            }\n",
        "        }\n",
        "    }\n",
        "    if (a != b){\n",
        "        for (int i = h; i >= 0; i--) {\n",
        "            if (p[a][i] != p[b][i]) {\n",
        "                a = p[a][i];\n",
        "                b = p[b][i];\n",
        "            }\n",
        "        }\n",
        "        a = p[a][0];\n",
        "    }\n",
        "}"
      ],
      "metadata": {
        "id": "2SHtgnDasQLx"
      },
      "execution_count": null,
      "outputs": []
    },
    {
      "cell_type": "markdown",
      "source": [
        "위상정렬"
      ],
      "metadata": {
        "id": "O05Mom8ctJKs"
      }
    },
    {
      "cell_type": "code",
      "source": [
        "#define _CRT_SECURE_NO_WARNINGS\n",
        "#include <iostream>\n",
        "#include <queue>\n",
        "#include <vector>\n",
        "\n",
        "using namespace std;\n",
        "vector<int> adj[1001];\n",
        "int main()\n",
        "{\n",
        "    ios::sync_with_stdio(false);\n",
        "    cin.tie(NULL);\n",
        "    freopen(\"sample_input.txt\", \"r\", stdin);\n",
        "    for (int t = 1; t <= 10; t++) {\n",
        "        int v, e;\n",
        "        cin >> v >> e;\n",
        "        for (int i = 0; i < 1001; i++) {\n",
        "            adj[i].clear();\n",
        "        }\n",
        "        int arr[1001] = { 0 };\n",
        "        for (int i = 0; i < e; i++) {\n",
        "            int a, b;\n",
        "            cin >> a >> b;\n",
        "            adj[a].emplace_back(b);\n",
        "            arr[b]++;\n",
        "        }\n",
        "        cout << \"#\" << t << \" \";\n",
        "        queue<int> q;\n",
        "        for (int i = 1; i <= v; i++) {\n",
        "            if (arr[i] == 0)q.push(i);\n",
        "        }\n",
        "        while (!q.empty()) {\n",
        "            int curr = q.front();\n",
        "            q.pop();\n",
        "            for (auto next : adj[curr]) {\n",
        "                arr[next]--;\n",
        "                if (arr[next] == 0) q.emplace(next);\n",
        "            }\n",
        "        }\n",
        "        cout << \"\\n\";\n",
        "    }\n",
        "}"
      ],
      "metadata": {
        "id": "JD8OcOe7tIj8"
      },
      "execution_count": null,
      "outputs": []
    },
    {
      "cell_type": "markdown",
      "source": [
        "indexed heap"
      ],
      "metadata": {
        "id": "A0T9SB5TxqyV"
      }
    },
    {
      "cell_type": "code",
      "source": [
        "struct LHeap\n",
        "{\n",
        "\tbac* heap[15001];\n",
        "\tint hs = 1;\n",
        "\n",
        "\tvoid init()\n",
        "\t{\n",
        "\t\ths = 1;\n",
        "\t}\n",
        "\n",
        "\tvoid swap(int a, int b)\n",
        "\t{\n",
        "\t\theap[a]->Lidx = b;\n",
        "\t\theap[b]->Lidx = a;\n",
        "\t\tbac* tmp = heap[b];\n",
        "\t\theap[b] = heap[a];\n",
        "\t\theap[a] = tmp;\n",
        "\t}\n",
        "\n",
        "\tbool comp(int x, int y)\n",
        "\t{\n",
        "\t\tbac* a = heap[x];\n",
        "\t\tbac* b = heap[y];\n",
        "\t\tif (a->life == b->life) {\n",
        "\t\t\tif (a->start == b->start) return a->key < b->key;\n",
        "\t\t\telse return a->start < b->start;\n",
        "\t\t}\n",
        "\t\treturn a->life < b->life;\n",
        "\t}\n",
        "\tvoid updateUp(int idx)\n",
        "\t{\n",
        "\t\twhile (idx > 1)\n",
        "\t\t{\n",
        "\t\t\tif (comp(idx, idx >> 1)) {\n",
        "\t\t\t\tswap(idx, idx >> 1);\n",
        "\t\t\t\tidx >>= 1;\n",
        "\t\t\t}\n",
        "\t\t\telse break;\n",
        "\t\t}\n",
        "\t}\n",
        "\n",
        "\tvoid updateDown(int idx)\n",
        "\t{\n",
        "\t\twhile (1) {\n",
        "\t\t\tint left = idx << 1;\n",
        "\t\t\tint right = left + 1;\n",
        "\t\t\tif (left >= hs)break;\n",
        "\t\t\tint next = left;\n",
        "\t\t\tif (right < hs) {\n",
        "\t\t\t\tnext = comp(left, right) ? left : right;\n",
        "\t\t\t}\n",
        "\t\t\tif (comp(idx, next)) break;\n",
        "\t\t\tswap(idx, next);\n",
        "\t\t\tidx = next;\n",
        "\t\t}\n",
        "\t}\n",
        "\n",
        "\tvoid update(int idx)\n",
        "\t{\n",
        "\t\tupdateUp(idx);\n",
        "\t\tupdateDown(idx);\n",
        "\t}\n",
        "\n",
        "\tvoid push(bac* nn)\n",
        "\t{\n",
        "\t\theap[hs] = nn;\n",
        "\t\tnn->Lidx = hs++;\n",
        "\t\tupdateUp(nn->Lidx);\n",
        "\t}\n",
        "\n",
        "\tbac* pop()\n",
        "\t{\n",
        "\t\tbac* ret = heap[1];\n",
        "\t\tswap(1, hs - 1);\n",
        "\t\ths--;\n",
        "\t\tupdateDown(1);\n",
        "\t\treturn ret;\n",
        "\t}\n",
        "\n",
        "\tvoid erase(int idx)\n",
        "\t{\n",
        "\t\tif (idx == hs - 1) {\n",
        "\t\t\ths--;\n",
        "\t\t}\n",
        "\t\telse {\n",
        "\t\t\tswap(idx, hs - 1);\n",
        "\t\t\ths--;\n",
        "\t\t\tupdate(idx);\n",
        "\t\t}\n",
        "\t}\n",
        "}lheap;"
      ],
      "metadata": {
        "id": "ULztvxzjxqRc"
      },
      "execution_count": null,
      "outputs": []
    }
  ]
}